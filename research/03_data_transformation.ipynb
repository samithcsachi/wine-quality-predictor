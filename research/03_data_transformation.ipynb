{
 "cells": [
  {
   "cell_type": "code",
   "execution_count": 31,
   "id": "006acced",
   "metadata": {},
   "outputs": [],
   "source": [
    "import os "
   ]
  },
  {
   "cell_type": "code",
   "execution_count": 32,
   "id": "ff98eed0",
   "metadata": {},
   "outputs": [],
   "source": [
    "os.chdir(r\"D:\\SAMITH\\Github\\wine-quality-predictor\")"
   ]
  },
  {
   "cell_type": "code",
   "execution_count": 33,
   "id": "0cbb1859",
   "metadata": {},
   "outputs": [],
   "source": [
    "from dataclasses import dataclass\n",
    "from pathlib import Path\n",
    "\n",
    "\n",
    "@dataclass(frozen=True)\n",
    "class DataTransformationConfig:\n",
    "    \"\"\"Data Transformation Configuration\"\"\"\n",
    "    root_dir: Path\n",
    "    data_path: Path"
   ]
  },
  {
   "cell_type": "code",
   "execution_count": 34,
   "id": "fefb5359",
   "metadata": {},
   "outputs": [],
   "source": [
    "from wine_quality_predictor.constants import *\n",
    "from wine_quality_predictor.utils.common import read_yaml, create_directories"
   ]
  },
  {
   "cell_type": "code",
   "execution_count": 35,
   "id": "254aa4e8",
   "metadata": {},
   "outputs": [],
   "source": [
    "class ConfigurationManager:\n",
    "    def __init__(\n",
    "        self,\n",
    "        config_filepath = CONFIG_FILE_PATH,\n",
    "        params_filepath = PARAMS_FILE_PATH,\n",
    "        schema_filepath = SCHEMA_FILE_PATH):\n",
    "\n",
    "        self.config = read_yaml(config_filepath)\n",
    "        self.params = read_yaml(params_filepath)\n",
    "        self.schema = read_yaml(schema_filepath)\n",
    "\n",
    "        create_directories([self.config.artifacts_root])\n",
    "\n",
    "    def get_data_transformation_config(self) -> DataTransformationConfig:\n",
    "        config = self.config.data_transformation\n",
    "\n",
    "        create_directories([config.root_dir])\n",
    "        data_transformation_config = DataTransformationConfig(\n",
    "            root_dir=config.root_dir,\n",
    "            data_path=config.data_path\n",
    "        )\n",
    "\n",
    "        return data_transformation_config"
   ]
  },
  {
   "cell_type": "code",
   "execution_count": 36,
   "id": "2413cff1",
   "metadata": {},
   "outputs": [],
   "source": [
    "import pandas as pd\n",
    "import os\n",
    "import numpy as np\n",
    "from wine_quality_predictor import logger\n",
    "from sklearn.model_selection import train_test_split"
   ]
  },
  {
   "cell_type": "code",
   "execution_count": 37,
   "id": "f6e66553",
   "metadata": {},
   "outputs": [],
   "source": [
    "class DataTransformation:\n",
    "    def __init__(self, config: DataTransformationConfig):\n",
    "        self.config = config\n",
    "\n",
    "    def train_test_spliting(self):\n",
    "        data = pd.read_csv(self.config.data_path)\n",
    "\n",
    "        # ===== Outlier Removal and Normalization =====\n",
    "        df = data.copy()\n",
    "        features = ['residual sugar', 'chlorides', 'free sulfur dioxide', 'total sulfur dioxide', 'alcohol']\n",
    "\n",
    "        for feature in features:\n",
    "            Q1 = df[feature].quantile(0.25)\n",
    "            Q3 = df[feature].quantile(0.75)\n",
    "            IQR = Q3 - Q1\n",
    "\n",
    "            lower = Q1 - 1.5 * IQR\n",
    "            upper = Q3 + 1.5 * IQR\n",
    "\n",
    "            df = df[(df[feature] >= lower) & (df[feature] <= upper)]\n",
    "\n",
    "            # Min-max normalization\n",
    "            minimum = df[feature].min()\n",
    "            maximum = df[feature].max()\n",
    "            df[feature] = (df[feature] - minimum) / (maximum - minimum)\n",
    "\n",
    "        \n",
    "        # Filling the missing values \n",
    "        for col, value in df.items():\n",
    "            if col != 'type':\n",
    "                df[col] = df[col].fillna(df[col].mean())\n",
    "\n",
    "       \n",
    "        # Split the data into training and test sets. (0.75, 0.25) split.\n",
    "        train, test = train_test_split(df,test_size = 0.25, random_state = 42)\n",
    "\n",
    "\n",
    "\n",
    "        train.to_csv(os.path.join(self.config.root_dir, \"train.csv\"), index=False)\n",
    "        test.to_csv(os.path.join(self.config.root_dir, \"test.csv\"), index=False)\n",
    "\n",
    "        logger.info(\"Splitted, cleaned, and oversampled data into training and test sets.\")\n",
    "        logger.info(f\"Train shape: {train.shape}\")\n",
    "        logger.info(f\"Test shape: {test.shape}\")\n",
    "\n",
    "        print(\"Train:\", train.shape)\n",
    "        print(\"Test:\", test.shape)\n",
    "\n",
    "    "
   ]
  },
  {
   "cell_type": "code",
   "execution_count": 38,
   "id": "3d51782b",
   "metadata": {},
   "outputs": [
    {
     "name": "stdout",
     "output_type": "stream",
     "text": [
      "[2025-04-30 21:44:41,064: INFO: common: yaml file: config\\config.yaml loaded successfully]\n",
      "[2025-04-30 21:44:41,080: INFO: common: yaml file: params.yaml loaded successfully]\n",
      "[2025-04-30 21:44:41,086: INFO: common: yaml file: schema.yaml loaded successfully]\n",
      "[2025-04-30 21:44:41,089: INFO: common: created directory at: artifacts]\n",
      "[2025-04-30 21:44:41,093: INFO: common: created directory at: artifacts/data_transformation]\n",
      "[2025-04-30 21:44:41,304: INFO: 1009129410: Splitted, cleaned, and oversampled data into training and test sets.]\n",
      "[2025-04-30 21:44:41,305: INFO: 1009129410: Train shape: (4515, 13)]\n",
      "[2025-04-30 21:44:41,309: INFO: 1009129410: Test shape: (1506, 13)]\n",
      "Train: (4515, 13)\n",
      "Test: (1506, 13)\n"
     ]
    }
   ],
   "source": [
    "try:\n",
    "    config = ConfigurationManager()\n",
    "    data_transformation_config = config.get_data_transformation_config()\n",
    "    data_transformation = DataTransformation(config=data_transformation_config)\n",
    "    data_transformation.train_test_spliting()\n",
    "except Exception as e:\n",
    "    raise e"
   ]
  }
 ],
 "metadata": {
  "kernelspec": {
   "display_name": "Python 3",
   "language": "python",
   "name": "python3"
  },
  "language_info": {
   "codemirror_mode": {
    "name": "ipython",
    "version": 3
   },
   "file_extension": ".py",
   "mimetype": "text/x-python",
   "name": "python",
   "nbconvert_exporter": "python",
   "pygments_lexer": "ipython3",
   "version": "3.13.3"
  }
 },
 "nbformat": 4,
 "nbformat_minor": 5
}
