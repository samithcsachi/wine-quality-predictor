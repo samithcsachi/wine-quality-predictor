{
 "cells": [
  {
   "cell_type": "code",
   "execution_count": 43,
   "id": "de0b4b7b",
   "metadata": {},
   "outputs": [],
   "source": [
    "import os "
   ]
  },
  {
   "cell_type": "code",
   "execution_count": 44,
   "id": "b818ff00",
   "metadata": {},
   "outputs": [],
   "source": [
    "os.chdir(r\"D:\\SAMITH\\Github\\wine-quality-predictor\")"
   ]
  },
  {
   "cell_type": "code",
   "execution_count": 48,
   "id": "2d9f46c0",
   "metadata": {},
   "outputs": [],
   "source": [
    "from dataclasses import dataclass\n",
    "from pathlib import Path\n",
    "\n",
    "\n",
    "@dataclass(frozen=True)\n",
    "class ModelTrainerConfig:\n",
    "    \"\"\"Model Trainer Configuration\"\"\"\n",
    "    root_dir: Path\n",
    "    train_data_path: Path\n",
    "    test_data_path: Path\n",
    "    model_name: str\n",
    "    alpha: float\n",
    "    l1_ratio: float\n",
    "    target_column: str"
   ]
  },
  {
   "cell_type": "code",
   "execution_count": 49,
   "id": "0f371f78",
   "metadata": {},
   "outputs": [],
   "source": [
    "from wine_quality_predictor.constants import *\n",
    "from wine_quality_predictor.utils.common import read_yaml, create_directories"
   ]
  },
  {
   "cell_type": "code",
   "execution_count": 50,
   "id": "bcd8ef04",
   "metadata": {},
   "outputs": [],
   "source": [
    "class ConfigurationManager:\n",
    "    def __init__(\n",
    "        self,\n",
    "        config_filepath = CONFIG_FILE_PATH,\n",
    "        params_filepath = PARAMS_FILE_PATH,\n",
    "        schema_filepath = SCHEMA_FILE_PATH):\n",
    "\n",
    "        self.config = read_yaml(config_filepath)\n",
    "        self.params = read_yaml(params_filepath)\n",
    "        self.schema = read_yaml(schema_filepath)\n",
    "\n",
    "        create_directories([self.config.artifacts_root])\n",
    "    def get_model_trainer_config(self) -> ModelTrainerConfig:\n",
    "            config = self.config.model_trainer\n",
    "            params = self.params.ElasticNet\n",
    "            schema =  self.schema.TARGET_COLUMN\n",
    "\n",
    "            create_directories([config.root_dir])\n",
    "\n",
    "            model_trainer_config = ModelTrainerConfig(\n",
    "                root_dir=config.root_dir,\n",
    "                train_data_path = config.train_data_path,\n",
    "                test_data_path = config.test_data_path,\n",
    "                model_name = config.model_name,\n",
    "                alpha = params.alpha,\n",
    "                l1_ratio = params.l1_ratio,\n",
    "                target_column = schema.name\n",
    "                \n",
    "            )\n",
    "\n",
    "            return model_trainer_config"
   ]
  },
  {
   "cell_type": "code",
   "execution_count": 52,
   "id": "8e6078c2",
   "metadata": {},
   "outputs": [],
   "source": [
    "import pandas as pd\n",
    "import os\n",
    "from wine_quality_predictor import logger\n",
    "from sklearn.linear_model import ElasticNet\n",
    "import joblib"
   ]
  },
  {
   "cell_type": "code",
   "execution_count": null,
   "id": "b347f500",
   "metadata": {},
   "outputs": [],
   "source": [
    "class ModelTrainer:\n",
    "    def __init__(self, config: ModelTrainerConfig):\n",
    "        self.config = config\n",
    "        \n",
    "    \n",
    "    \n",
    "    def train(self):\n",
    "        train_data = pd.read_csv(self.config.train_data_path)\n",
    "        test_data = pd.read_csv(self.config.test_data_path)\n",
    "\n",
    "        columns_to_drop = ['type', 'free sulfur dioxide', 'density']\n",
    "\n",
    "        \n",
    "\n",
    "        train_x = train_data.drop(columns=columns_to_drop + [self.config.target_column])\n",
    "        test_x = test_data.drop(columns=columns_to_drop + [self.config.target_column])\n",
    "        train_y = train_data[[self.config.target_column]]\n",
    "        test_y = test_data[[self.config.target_column]]\n",
    "\n",
    "\n",
    "        lr = ElasticNet(alpha=self.config.alpha, l1_ratio=self.config.l1_ratio, random_state=42)\n",
    "        lr.fit(train_x, train_y)\n",
    "\n",
    "        joblib.dump(lr, os.path.join(self.config.root_dir, self.config.model_name))\n",
    "\n",
    "\n",
    "        "
   ]
  },
  {
   "cell_type": "code",
   "execution_count": 58,
   "id": "4c160c62",
   "metadata": {},
   "outputs": [
    {
     "name": "stdout",
     "output_type": "stream",
     "text": [
      "[2025-04-30 22:44:46,515: INFO: common: yaml file: config\\config.yaml loaded successfully]\n",
      "[2025-04-30 22:44:46,520: INFO: common: yaml file: params.yaml loaded successfully]\n",
      "[2025-04-30 22:44:46,526: INFO: common: yaml file: schema.yaml loaded successfully]\n",
      "[2025-04-30 22:44:46,530: INFO: common: created directory at: artifacts]\n",
      "[2025-04-30 22:44:46,533: INFO: common: created directory at: artifacts/model_trainer]\n"
     ]
    }
   ],
   "source": [
    "try:\n",
    "    config = ConfigurationManager()\n",
    "    model_trainer_config = config.get_model_trainer_config()\n",
    "    model_trainer = ModelTrainer(config=model_trainer_config, params=config.params)  \n",
    "    model_trainer.train()\n",
    "except Exception as e:\n",
    "    raise e"
   ]
  }
 ],
 "metadata": {
  "kernelspec": {
   "display_name": "Python 3",
   "language": "python",
   "name": "python3"
  },
  "language_info": {
   "codemirror_mode": {
    "name": "ipython",
    "version": 3
   },
   "file_extension": ".py",
   "mimetype": "text/x-python",
   "name": "python",
   "nbconvert_exporter": "python",
   "pygments_lexer": "ipython3",
   "version": "3.13.3"
  }
 },
 "nbformat": 4,
 "nbformat_minor": 5
}
