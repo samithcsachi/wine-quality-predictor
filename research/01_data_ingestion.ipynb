{
 "cells": [
  {
   "cell_type": "code",
   "execution_count": 58,
   "id": "7dde11fd",
   "metadata": {},
   "outputs": [],
   "source": [
    "import os \n"
   ]
  },
  {
   "cell_type": "code",
   "execution_count": 59,
   "id": "79bbe22f",
   "metadata": {},
   "outputs": [],
   "source": [
    "os.chdir(r\"D:\\SAMITH\\Github\\wine-quality-predictor\")"
   ]
  },
  {
   "cell_type": "code",
   "execution_count": 60,
   "id": "43e64ec4",
   "metadata": {},
   "outputs": [],
   "source": [
    "from dataclasses import dataclass\n",
    "from pathlib import Path\n",
    "\n",
    "@dataclass(frozen=True)\n",
    "class DataIngestionConfig:\n",
    "    \"\"\"Data Ingestion Configuration\"\"\"\n",
    "    root_dir: Path\n",
    "    source_URL: str \n",
    "    local_data_file: Path"
   ]
  },
  {
   "cell_type": "code",
   "execution_count": 61,
   "id": "8d8b9dc7",
   "metadata": {},
   "outputs": [],
   "source": [
    "from wine_quality_predictor.constants import *\n",
    "from wine_quality_predictor.utils.common import read_yaml, create_directories"
   ]
  },
  {
   "cell_type": "code",
   "execution_count": 62,
   "id": "ca48b9a8",
   "metadata": {},
   "outputs": [],
   "source": [
    "class ConfigurationManager:\n",
    "    def __init__(\n",
    "        self,\n",
    "        config_filepath = CONFIG_FILE_PATH,\n",
    "        params_filepath = PARAMS_FILE_PATH,\n",
    "        schema_filepath = SCHEMA_FILE_PATH):\n",
    "\n",
    "        self.config = read_yaml(config_filepath)\n",
    "        self.params = read_yaml(params_filepath)\n",
    "        self.schema = read_yaml(schema_filepath)\n",
    "\n",
    "        create_directories([self.config.artifacts_root])\n",
    "\n",
    "    def get_data_ingestion_config(self) -> DataIngestionConfig:\n",
    "        \"\"\"Method to get the data ingestion configuration\"\"\"\n",
    "        config = self.config.data_ingestion\n",
    "        create_directories([config.root_dir])\n",
    "        data_ingestion_config = DataIngestionConfig(\n",
    "            root_dir= config.root_dir,\n",
    "            source_URL=config.source_URL,\n",
    "            local_data_file=config.local_data_file,\n",
    "        )\n",
    "        return data_ingestion_config"
   ]
  },
  {
   "cell_type": "code",
   "execution_count": 63,
   "id": "f4e50c5b",
   "metadata": {},
   "outputs": [],
   "source": [
    "import os\n",
    "import urllib.request as request\n",
    "from wine_quality_predictor import logger\n",
    "from wine_quality_predictor.utils.common import get_size"
   ]
  },
  {
   "cell_type": "code",
   "execution_count": 68,
   "id": "bec674ae",
   "metadata": {},
   "outputs": [],
   "source": [
    "class DataIngestion:\n",
    "    def __init__(self, config: DataIngestionConfig):\n",
    "        self.config = config\n",
    "\n",
    "    def download_file(self) -> str:\n",
    "    \n",
    "        local_path = Path(self.config.local_data_file)\n",
    "\n",
    "        # Ensure the parent directory exists\n",
    "        local_path.parent.mkdir(parents=True, exist_ok=True)\n",
    "\n",
    "        if not local_path.exists():\n",
    "            try:\n",
    "                filename, headers = request.urlretrieve(\n",
    "                    url=self.config.source_URL,\n",
    "                    filename=str(local_path)\n",
    "                )\n",
    "                logger.info(f\"{filename} downloaded with headers: \\n{headers}\")\n",
    "                return filename\n",
    "            except Exception as e:\n",
    "                logger.error(f\"Failed to download file: {e}\")\n",
    "                raise\n",
    "        else:\n",
    "            logger.info(f\"File already exists: {local_path}\")\n",
    "            return str(local_path)"
   ]
  },
  {
   "cell_type": "code",
   "execution_count": 69,
   "id": "ccb581ff",
   "metadata": {},
   "outputs": [
    {
     "name": "stdout",
     "output_type": "stream",
     "text": [
      "[2025-04-30 14:43:11,700: INFO: common: yaml file: config\\config.yaml loaded successfully]\n",
      "[2025-04-30 14:43:11,702: INFO: common: yaml file: params.yaml loaded successfully]\n",
      "[2025-04-30 14:43:11,704: INFO: common: yaml file: schema.yaml loaded successfully]\n",
      "[2025-04-30 14:43:11,706: INFO: common: created directory at: artifacts]\n",
      "[2025-04-30 14:43:11,707: INFO: common: created directory at: artifacts/data_ingestion]\n",
      "[2025-04-30 14:43:12,268: INFO: 3398899755: artifacts\\data_ingestion\\data\\winequalityN.csv downloaded with headers: \n",
      "Connection: close\n",
      "Content-Length: 390376\n",
      "Cache-Control: max-age=300\n",
      "Content-Security-Policy: default-src 'none'; style-src 'unsafe-inline'; sandbox\n",
      "Content-Type: text/plain; charset=utf-8\n",
      "ETag: \"1d18ba2fbc422055a785a5e2d840e47343b337eb2a52b8c915ca44a1a779b03f\"\n",
      "Strict-Transport-Security: max-age=31536000\n",
      "X-Content-Type-Options: nosniff\n",
      "X-Frame-Options: deny\n",
      "X-XSS-Protection: 1; mode=block\n",
      "X-GitHub-Request-Id: A582:4A5A8:14128:2557C:6811FD76\n",
      "Accept-Ranges: bytes\n",
      "Date: Wed, 30 Apr 2025 10:43:12 GMT\n",
      "Via: 1.1 varnish\n",
      "X-Served-By: cache-dxb1470031-DXB\n",
      "X-Cache: HIT\n",
      "X-Cache-Hits: 1\n",
      "X-Timer: S1746009793.843526,VS0,VE3\n",
      "Vary: Authorization,Accept-Encoding,Origin\n",
      "Access-Control-Allow-Origin: *\n",
      "Cross-Origin-Resource-Policy: cross-origin\n",
      "X-Fastly-Request-ID: 530c2bed8fb3d9782f58974af4d55aae67fc49a9\n",
      "Expires: Wed, 30 Apr 2025 10:48:12 GMT\n",
      "Source-Age: 15\n",
      "\n",
      "]\n"
     ]
    }
   ],
   "source": [
    "try:\n",
    "    config = ConfigurationManager()\n",
    "    data_ingestion_config = config.get_data_ingestion_config()\n",
    "    data_ingestion = DataIngestion(config=data_ingestion_config)\n",
    "    data_ingestion.download_file()\n",
    "\n",
    "\n",
    "except Exception as e:\n",
    "    raise e"
   ]
  },
  {
   "cell_type": "code",
   "execution_count": null,
   "id": "f91a4b48",
   "metadata": {},
   "outputs": [],
   "source": []
  },
  {
   "cell_type": "code",
   "execution_count": null,
   "id": "b8d706ab",
   "metadata": {},
   "outputs": [],
   "source": []
  }
 ],
 "metadata": {
  "kernelspec": {
   "display_name": "Python 3",
   "language": "python",
   "name": "python3"
  },
  "language_info": {
   "codemirror_mode": {
    "name": "ipython",
    "version": 3
   },
   "file_extension": ".py",
   "mimetype": "text/x-python",
   "name": "python",
   "nbconvert_exporter": "python",
   "pygments_lexer": "ipython3",
   "version": "3.13.3"
  }
 },
 "nbformat": 4,
 "nbformat_minor": 5
}
